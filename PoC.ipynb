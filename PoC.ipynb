{
 "cells": [
  {
   "cell_type": "code",
   "execution_count": 1,
   "id": "dfdc0641-1b65-4a14-b50d-18312510604e",
   "metadata": {},
   "outputs": [],
   "source": [
    "import time\n",
    "import streamlit as st \n",
    "from dotenv import load_dotenv\n",
    "from processText import extractPdfText, textChunks, vectorDB\n",
    "from chatWithPDF import get_conversation_chain\n",
    "from templates import css, bot_template, user_template\n",
    "\n",
    "\n",
    "import os\n",
    "import shutil\n",
    "from PyPDF2 import PdfReader\n",
    "from langchain.schema import Document\n",
    "from langchain.document_loaders import DirectoryLoader\n",
    "from langchain_community.vectorstores import FAISS, Chroma\n",
    "from langchain_community.embeddings import OpenAIEmbeddings\n",
    "from langchain_openai import OpenAIEmbeddings\n",
    "from langchain.text_splitter import CharacterTextSplitter\n",
    "\n",
    "import chromadb\n",
    "from langchain_openai import OpenAI\n",
    "from langchain.chains import RetrievalQA\n",
    "from langchain.memory import ConversationBufferMemory\n",
    "from langchain_community.chat_models import ChatOpenAI\n",
    "from langchain_openai import ChatOpenAI\n",
    "from langchain.chains import ConversationalRetrievalChain"
   ]
  },
  {
   "cell_type": "code",
   "execution_count": 2,
   "id": "7f869c6e-5ddd-4d58-be33-48a671523aaf",
   "metadata": {},
   "outputs": [],
   "source": [
    "openai_api_key = ''\n",
    "CHROMA_PATH = \"chroma1\"\n",
    "DATA_PATH = \"data/\""
   ]
  },
  {
   "cell_type": "code",
   "execution_count": 3,
   "id": "0ab22837-2a4e-4f4b-8162-f3943c5765c7",
   "metadata": {},
   "outputs": [],
   "source": [
    "def extractPdfText(documents):\n",
    "    \"\"\"\n",
    "    Extracts raw text from the pdfs\n",
    "    \"\"\"\n",
    "    text=\"\"\n",
    "    for pdf in documents:\n",
    "        pdf_reader = PdfReader(pdf)\n",
    "        for page in pdf_reader.pages:\n",
    "            text = text + page.extract_text()\n",
    "            \n",
    "    return text\n",
    "\n",
    "\n",
    "def textChunks(text):\n",
    "    \"\"\"\n",
    "    Splits the extracted text to chunks\n",
    "    \"\"\"\n",
    "    text_splitter = CharacterTextSplitter(\n",
    "        separator=\"\\n\",\n",
    "        chunk_size=1000,\n",
    "        chunk_overlap=200,\n",
    "        length_function=len\n",
    "        )\n",
    "    chunks = text_splitter.split_text(text)\n",
    "    return chunks\n",
    "\n",
    "\n",
    "def vectorDB(chunks):\n",
    "    embeddings = OpenAIEmbeddings(openai_api_key=openai_api_key)\n",
    "    #embeddings = openaiEmbeddings(OPEN_API_KEY=OPEN_API_KEY)\n",
    "    vector_store = FAISS.from_texts(texts=chunks,\n",
    "                                    embedding=embeddings)\n",
    "    \n",
    "    return vector_store\n",
    "\n",
    "\n",
    "def chromaDB(chunks):\n",
    "    # Clear out the database first.\n",
    "    if os.path.exists(CHROMA_PATH):\n",
    "        shutil.rmtree(CHROMA_PATH)\n",
    "\n",
    "    # Create a new DB from the documents.\n",
    "    db = Chroma.from_texts(\n",
    "        chunks, OpenAIEmbeddings(openai_api_key=openai_api_key), persist_directory=CHROMA_PATH\n",
    "    )\n",
    "    db.persist()\n",
    "   \n",
    "\n",
    "\n",
    "\n",
    "\n",
    "\n",
    "\n",
    "\n",
    "#########################################\n",
    "\n",
    "def get_conversation_chain(db):\n",
    "    llm = ChatOpenAI(openai_api_key=openai_api_key)\n",
    "    memory = ConversationBufferMemory(memory_key='chat_history', return_messages=True)\n",
    "    conversation_chain = ConversationalRetrievalChain.from_llm( \n",
    "    llm=llm,\n",
    "    retriever = db.as_retriever(),\n",
    "    memory = memory\n",
    "    )\n",
    "\n",
    "    return conversation_chain"
   ]
  },
  {
   "cell_type": "markdown",
   "id": "2c857686-7c0f-48ad-bb67-a785e230be4c",
   "metadata": {},
   "source": [
    "<h2> 1 time - FAISS"
   ]
  },
  {
   "cell_type": "code",
   "execution_count": 4,
   "id": "92947aee-47c4-4d73-984a-7154e2cb8c9a",
   "metadata": {},
   "outputs": [],
   "source": [
    "from PyPDF2 import PdfReader\n",
    "\n",
    "reader = PdfReader(\"data/Data_Scienstist.pdf\")\n"
   ]
  },
  {
   "cell_type": "code",
   "execution_count": 5,
   "id": "8138a623-12f4-41aa-960a-c43914741a3e",
   "metadata": {},
   "outputs": [],
   "source": [
    "page = reader.pages[0]\n",
    "text = page.extract_text()"
   ]
  },
  {
   "cell_type": "code",
   "execution_count": 6,
   "id": "7965f574-f55b-4cec-aaaa-c4c9026e0f4c",
   "metadata": {},
   "outputs": [],
   "source": [
    "chunks = textChunks(text)"
   ]
  },
  {
   "cell_type": "code",
   "execution_count": 7,
   "id": "69815083-40a9-46eb-9be3-54ee2eb5a504",
   "metadata": {},
   "outputs": [],
   "source": [
    "embeddingsDB = vectorDB(chunks)"
   ]
  },
  {
   "cell_type": "code",
   "execution_count": 8,
   "id": "e256ac1f-6a0a-45f0-98a4-b0e4e85b70ef",
   "metadata": {},
   "outputs": [],
   "source": [
    "model = get_conversation_chain(embeddingsDB)"
   ]
  },
  {
   "cell_type": "code",
   "execution_count": 9,
   "id": "97fed0fd-96f5-44b4-bd34-9e50d39073dd",
   "metadata": {},
   "outputs": [
    {
     "name": "stderr",
     "output_type": "stream",
     "text": [
      "C:\\Anaconda3\\envs\\udacity\\lib\\site-packages\\langchain_core\\_api\\deprecation.py:117: LangChainDeprecationWarning: The function `__call__` was deprecated in LangChain 0.1.0 and will be removed in 0.2.0. Use invoke instead.\n",
      "  warn_deprecated(\n"
     ]
    },
    {
     "data": {
      "text/plain": [
       "{'question': 'What is Spyros job',\n",
       " 'chat_history': [HumanMessage(content='What is Spyros job'),\n",
       "  AIMessage(content='Spyros is a Data Scientist.')],\n",
       " 'answer': 'Spyros is a Data Scientist.'}"
      ]
     },
     "execution_count": 9,
     "metadata": {},
     "output_type": "execute_result"
    }
   ],
   "source": [
    "model({'question': 'What is Spyros job'})"
   ]
  },
  {
   "cell_type": "code",
   "execution_count": null,
   "id": "c6c0c895-e1da-4af6-aecb-640dc7e2f2fc",
   "metadata": {},
   "outputs": [],
   "source": []
  },
  {
   "cell_type": "markdown",
   "id": "34bfc6c2-f762-4b1f-8162-a0cc3aa2a342",
   "metadata": {},
   "source": [
    "<h2> save load - ChromaDB"
   ]
  },
  {
   "cell_type": "code",
   "execution_count": 11,
   "id": "986bd706-cee8-48d9-89c9-01243fdd34c4",
   "metadata": {},
   "outputs": [],
   "source": [
    "from langchain.vectorstores import Chroma\n",
    "from langchain.text_splitter import RecursiveCharacterTextSplitter\n",
    "from langchain.llms import OpenAI\n",
    "from langchain.chains import RetrievalQA\n",
    "from langchain.document_loaders import TextLoader\n",
    "from langchain.document_loaders import PyPDFLoader\n",
    "from langchain.document_loaders import DirectoryLoader"
   ]
  },
  {
   "cell_type": "code",
   "execution_count": 23,
   "id": "0625fd0b-155c-4644-93f2-1e937bbc1b3d",
   "metadata": {},
   "outputs": [],
   "source": [
    "chromadb = Chroma.from_documents(documents=documents, \n",
    "                                 embedding= OpenAIEmbeddings(openai_api_key=openai_api_key),\n",
    "                                 persist_directory='db')"
   ]
  },
  {
   "cell_type": "code",
   "execution_count": 25,
   "id": "086e5d09-2f52-4a41-86f7-9b3eca919db3",
   "metadata": {},
   "outputs": [],
   "source": [
    "chromadb.persist()\n",
    "chromadb = None"
   ]
  },
  {
   "cell_type": "code",
   "execution_count": 28,
   "id": "cec5e23c-cf63-484e-84d0-2c9138de8548",
   "metadata": {},
   "outputs": [],
   "source": [
    "vectordb = Chroma(persist_directory='db', \n",
    "                  embedding_function=OpenAIEmbeddings(openai_api_key=openai_api_key))"
   ]
  },
  {
   "cell_type": "code",
   "execution_count": 29,
   "id": "33e8316a-6fa4-4e56-9605-3efd72d487c8",
   "metadata": {},
   "outputs": [],
   "source": [
    "# https://www.youtube.com/watch?v=cFCGUjc33aU"
   ]
  },
  {
   "cell_type": "code",
   "execution_count": null,
   "id": "4b8832b8-24ce-466b-9d3c-c9f161fd7f4f",
   "metadata": {},
   "outputs": [],
   "source": []
  }
 ],
 "metadata": {
  "kernelspec": {
   "display_name": "Python 3 (ipykernel)",
   "language": "python",
   "name": "python3"
  },
  "language_info": {
   "codemirror_mode": {
    "name": "ipython",
    "version": 3
   },
   "file_extension": ".py",
   "mimetype": "text/x-python",
   "name": "python",
   "nbconvert_exporter": "python",
   "pygments_lexer": "ipython3",
   "version": "3.9.19"
  }
 },
 "nbformat": 4,
 "nbformat_minor": 5
}
